{
 "cells": [
  {
   "cell_type": "code",
   "execution_count": 42,
   "id": "5dcd500e",
   "metadata": {},
   "outputs": [],
   "source": [
    "import pandas as pd\n",
    "from matplotlib import pyplot as plt\n",
    "import seaborn as sns"
   ]
  },
  {
   "cell_type": "code",
   "execution_count": 8,
   "id": "81a8bf82",
   "metadata": {},
   "outputs": [],
   "source": [
    "df = pd.read_csv(\"/Users/tatev/Documents/GitHub/orientation-technical/dat/2022-06-14-survey.csv\")"
   ]
  },
  {
   "cell_type": "code",
   "execution_count": 9,
   "id": "9773efe8",
   "metadata": {},
   "outputs": [
    {
     "data": {
      "text/html": [
       "<div>\n",
       "<style scoped>\n",
       "    .dataframe tbody tr th:only-of-type {\n",
       "        vertical-align: middle;\n",
       "    }\n",
       "\n",
       "    .dataframe tbody tr th {\n",
       "        vertical-align: top;\n",
       "    }\n",
       "\n",
       "    .dataframe thead th {\n",
       "        text-align: right;\n",
       "    }\n",
       "</style>\n",
       "<table border=\"1\" class=\"dataframe\">\n",
       "  <thead>\n",
       "    <tr style=\"text-align: right;\">\n",
       "      <th></th>\n",
       "      <th>Timestamp</th>\n",
       "      <th>Operating System</th>\n",
       "      <th>CPU Cycle Rate (in GHz)</th>\n",
       "      <th>CPU Number of Cores (int)</th>\n",
       "      <th>RAM (in GB)</th>\n",
       "      <th>Hard Drive Size (in GB)</th>\n",
       "      <th>GPU (short description as a string)</th>\n",
       "      <th>GPU CUDA Number of Cores (int)</th>\n",
       "    </tr>\n",
       "  </thead>\n",
       "  <tbody>\n",
       "    <tr>\n",
       "      <th>0</th>\n",
       "      <td>5/18/2022 12:30:44</td>\n",
       "      <td>MacOS</td>\n",
       "      <td>2.5</td>\n",
       "      <td>2</td>\n",
       "      <td>16</td>\n",
       "      <td>500</td>\n",
       "      <td>Intel Iris Plus Graphics 640 1536 MB</td>\n",
       "      <td>0</td>\n",
       "    </tr>\n",
       "    <tr>\n",
       "      <th>1</th>\n",
       "      <td>1/1/1970 0:00:00</td>\n",
       "      <td>Any Linux</td>\n",
       "      <td>500.0</td>\n",
       "      <td>-3</td>\n",
       "      <td>256</td>\n",
       "      <td>5</td>\n",
       "      <td>rtx 48000</td>\n",
       "      <td>6002283</td>\n",
       "    </tr>\n",
       "    <tr>\n",
       "      <th>2</th>\n",
       "      <td>6/8/2022 17:39:20</td>\n",
       "      <td>Windows</td>\n",
       "      <td>2.8</td>\n",
       "      <td>4</td>\n",
       "      <td>16</td>\n",
       "      <td>512</td>\n",
       "      <td>Intel Iris Xe Graphics</td>\n",
       "      <td>4</td>\n",
       "    </tr>\n",
       "    <tr>\n",
       "      <th>3</th>\n",
       "      <td>6/12/2022 21:25:43</td>\n",
       "      <td>Windows</td>\n",
       "      <td>2.3</td>\n",
       "      <td>8</td>\n",
       "      <td>16</td>\n",
       "      <td>936</td>\n",
       "      <td>Intel(R) UHD Graphics</td>\n",
       "      <td>2560</td>\n",
       "    </tr>\n",
       "    <tr>\n",
       "      <th>4</th>\n",
       "      <td>6/14/2022 11:51:11</td>\n",
       "      <td>MacOS</td>\n",
       "      <td>1.6</td>\n",
       "      <td>2</td>\n",
       "      <td>8</td>\n",
       "      <td>121</td>\n",
       "      <td>Intel UHD Graphics 617 1536 MB</td>\n",
       "      <td>2</td>\n",
       "    </tr>\n",
       "  </tbody>\n",
       "</table>\n",
       "</div>"
      ],
      "text/plain": [
       "            Timestamp Operating System  CPU Cycle Rate (in GHz)  \\\n",
       "0  5/18/2022 12:30:44            MacOS                      2.5   \n",
       "1    1/1/1970 0:00:00        Any Linux                    500.0   \n",
       "2   6/8/2022 17:39:20          Windows                      2.8   \n",
       "3  6/12/2022 21:25:43          Windows                      2.3   \n",
       "4  6/14/2022 11:51:11            MacOS                      1.6   \n",
       "\n",
       "   CPU Number of Cores (int)  RAM (in GB)  Hard Drive Size (in GB)  \\\n",
       "0                          2           16                      500   \n",
       "1                         -3          256                        5   \n",
       "2                          4           16                      512   \n",
       "3                          8           16                      936   \n",
       "4                          2            8                      121   \n",
       "\n",
       "    GPU (short description as a string)  GPU CUDA Number of Cores (int)  \n",
       "0  Intel Iris Plus Graphics 640 1536 MB                               0  \n",
       "1                             rtx 48000                         6002283  \n",
       "2                Intel Iris Xe Graphics                               4  \n",
       "3                 Intel(R) UHD Graphics                            2560  \n",
       "4        Intel UHD Graphics 617 1536 MB                               2  "
      ]
     },
     "execution_count": 9,
     "metadata": {},
     "output_type": "execute_result"
    }
   ],
   "source": [
    "df.head()"
   ]
  },
  {
   "cell_type": "code",
   "execution_count": 11,
   "id": "18bf909c",
   "metadata": {},
   "outputs": [],
   "source": [
    "df.columns = ['Time', 'OS', 'CPU_CR', 'CPU_NC', 'RAM', 'Hard_Drive', 'GPU', 'GPU_Cuda']"
   ]
  },
  {
   "cell_type": "code",
   "execution_count": 50,
   "id": "2791c5df",
   "metadata": {},
   "outputs": [
    {
     "data": {
      "text/html": [
       "<div>\n",
       "<style scoped>\n",
       "    .dataframe tbody tr th:only-of-type {\n",
       "        vertical-align: middle;\n",
       "    }\n",
       "\n",
       "    .dataframe tbody tr th {\n",
       "        vertical-align: top;\n",
       "    }\n",
       "\n",
       "    .dataframe thead th {\n",
       "        text-align: right;\n",
       "    }\n",
       "</style>\n",
       "<table border=\"1\" class=\"dataframe\">\n",
       "  <thead>\n",
       "    <tr style=\"text-align: right;\">\n",
       "      <th></th>\n",
       "      <th>Time</th>\n",
       "      <th>OS</th>\n",
       "      <th>CPU_CR</th>\n",
       "      <th>CPU_NC</th>\n",
       "      <th>RAM</th>\n",
       "      <th>Hard_Drive</th>\n",
       "      <th>GPU</th>\n",
       "      <th>GPU_Cuda</th>\n",
       "    </tr>\n",
       "  </thead>\n",
       "  <tbody>\n",
       "    <tr>\n",
       "      <th>0</th>\n",
       "      <td>5/18/2022 12:30:44</td>\n",
       "      <td>MacOS</td>\n",
       "      <td>2.5</td>\n",
       "      <td>2</td>\n",
       "      <td>16</td>\n",
       "      <td>500</td>\n",
       "      <td>Intel Iris Plus Graphics 640 1536 MB</td>\n",
       "      <td>0</td>\n",
       "    </tr>\n",
       "    <tr>\n",
       "      <th>1</th>\n",
       "      <td>1/1/1970 0:00:00</td>\n",
       "      <td>Any Linux</td>\n",
       "      <td>500.0</td>\n",
       "      <td>-3</td>\n",
       "      <td>256</td>\n",
       "      <td>5</td>\n",
       "      <td>rtx 48000</td>\n",
       "      <td>6002283</td>\n",
       "    </tr>\n",
       "    <tr>\n",
       "      <th>2</th>\n",
       "      <td>6/8/2022 17:39:20</td>\n",
       "      <td>Windows</td>\n",
       "      <td>2.8</td>\n",
       "      <td>4</td>\n",
       "      <td>16</td>\n",
       "      <td>512</td>\n",
       "      <td>Intel Iris Xe Graphics</td>\n",
       "      <td>4</td>\n",
       "    </tr>\n",
       "    <tr>\n",
       "      <th>3</th>\n",
       "      <td>6/12/2022 21:25:43</td>\n",
       "      <td>Windows</td>\n",
       "      <td>2.3</td>\n",
       "      <td>8</td>\n",
       "      <td>16</td>\n",
       "      <td>936</td>\n",
       "      <td>Intel(R) UHD Graphics</td>\n",
       "      <td>2560</td>\n",
       "    </tr>\n",
       "    <tr>\n",
       "      <th>4</th>\n",
       "      <td>6/14/2022 11:51:11</td>\n",
       "      <td>MacOS</td>\n",
       "      <td>1.6</td>\n",
       "      <td>2</td>\n",
       "      <td>8</td>\n",
       "      <td>121</td>\n",
       "      <td>Intel UHD Graphics 617 1536 MB</td>\n",
       "      <td>2</td>\n",
       "    </tr>\n",
       "  </tbody>\n",
       "</table>\n",
       "</div>"
      ],
      "text/plain": [
       "                 Time         OS  CPU_CR  CPU_NC  RAM  Hard_Drive  \\\n",
       "0  5/18/2022 12:30:44      MacOS     2.5       2   16         500   \n",
       "1    1/1/1970 0:00:00  Any Linux   500.0      -3  256           5   \n",
       "2   6/8/2022 17:39:20    Windows     2.8       4   16         512   \n",
       "3  6/12/2022 21:25:43    Windows     2.3       8   16         936   \n",
       "4  6/14/2022 11:51:11      MacOS     1.6       2    8         121   \n",
       "\n",
       "                                    GPU  GPU_Cuda  \n",
       "0  Intel Iris Plus Graphics 640 1536 MB         0  \n",
       "1                             rtx 48000   6002283  \n",
       "2                Intel Iris Xe Graphics         4  \n",
       "3                 Intel(R) UHD Graphics      2560  \n",
       "4        Intel UHD Graphics 617 1536 MB         2  "
      ]
     },
     "execution_count": 50,
     "metadata": {},
     "output_type": "execute_result"
    }
   ],
   "source": [
    "df.head()"
   ]
  },
  {
   "cell_type": "code",
   "execution_count": 51,
   "id": "84a514f2",
   "metadata": {},
   "outputs": [
    {
     "data": {
      "text/plain": [
       "1024"
      ]
     },
     "execution_count": 51,
     "metadata": {},
     "output_type": "execute_result"
    }
   ],
   "source": [
    "max(df['Hard_Drive'])"
   ]
  },
  {
   "cell_type": "code",
   "execution_count": 35,
   "id": "80d8c4a4",
   "metadata": {},
   "outputs": [
    {
     "data": {
      "text/plain": [
       "(array([ 2.,  4., 26.,  0., 19.,  0.,  0.,  0.,  0., 11.]),\n",
       " array([   5. ,  106.9,  208.8,  310.7,  412.6,  514.5,  616.4,  718.3,\n",
       "         820.2,  922.1, 1024. ]),\n",
       " <BarContainer object of 10 artists>)"
      ]
     },
     "execution_count": 35,
     "metadata": {},
     "output_type": "execute_result"
    },
    {
     "data": {
      "image/png": "[encoded data removed]",
      "text/plain": [
       "<Figure size 432x288 with 1 Axes>"
      ]
     },
     "metadata": {
      "needs_background": "light"
     },
     "output_type": "display_data"
    }
   ],
   "source": [
    "plt.hist(df['Hard_Drive'])"
   ]
  },
  {
   "cell_type": "code",
   "execution_count": 27,
   "id": "108054b5",
   "metadata": {},
   "outputs": [
    {
     "data": {
      "text/plain": [
       "pandas.core.series.Series"
      ]
     },
     "execution_count": 27,
     "metadata": {},
     "output_type": "execute_result"
    }
   ],
   "source": [
    "type(df['CPU_CR'])"
   ]
  },
  {
   "cell_type": "code",
   "execution_count": 43,
   "id": "c76d03df",
   "metadata": {},
   "outputs": [
    {
     "data": {
      "text/plain": [
       "<matplotlib.collections.PathCollection at 0x7fe4eca5fe80>"
      ]
     },
     "execution_count": 43,
     "metadata": {},
     "output_type": "execute_result"
    },
    {
     "data": {
      "image/png": "[encoded data removed]",
      "text/plain": [
       "<Figure size 432x288 with 1 Axes>"
      ]
     },
     "metadata": {
      "needs_background": "light"
     },
     "output_type": "display_data"
    }
   ],
   "source": [
    "ax = plt.axes()\n",
    "\n",
    "ax.scatter(df.CPU_CR, df.CPU_NC)"
   ]
  },
  {
   "cell_type": "code",
   "execution_count": 49,
   "id": "2d40ee6b",
   "metadata": {},
   "outputs": [
    {
     "data": {
      "text/plain": [
       "(array([ 1., 25.,  1., 31.,  0.,  0.,  3.]),\n",
       " array([ 0,  5, 10, 15, 20, 25, 30, 35]),\n",
       " <BarContainer object of 7 artists>)"
      ]
     },
     "execution_count": 49,
     "metadata": {},
     "output_type": "execute_result"
    },
    {
     "data": {
      "image/png": "[encoded data removed]",
      "text/plain": [
       "<Figure size 432x288 with 1 Axes>"
      ]
     },
     "metadata": {},
     "output_type": "display_data"
    }
   ],
   "source": [
    "plt.hist(df['RAM'], bins = [0, 5, 10, 15, 20, 25, 30, 35])"
   ]
  },
  {
   "cell_type": "code",
   "execution_count": 45,
   "id": "8708a10b",
   "metadata": {},
   "outputs": [
    {
     "ename": "IndexError",
     "evalue": "index 1400 is out of bounds for axis 1 with size 2",
     "output_type": "error",
     "traceback": [
      "\u001b[0;31m---------------------------------------------------------------------------\u001b[0m",
      "\u001b[0;31mIndexError\u001b[0m                                Traceback (most recent call last)",
      "\u001b[0;32m/var/folders/kt/n1f8pnt10491r_s_9qww5jl00000gn/T/ipykernel_3845/2366870587.py\u001b[0m in \u001b[0;36m<module>\u001b[0;34m\u001b[0m\n\u001b[1;32m      1\u001b[0m \u001b[0msns\u001b[0m\u001b[0;34m.\u001b[0m\u001b[0mset\u001b[0m\u001b[0;34m(\u001b[0m\u001b[0mstyle\u001b[0m\u001b[0;34m=\u001b[0m\u001b[0;34m\"whitegrid\"\u001b[0m\u001b[0;34m)\u001b[0m\u001b[0;34m\u001b[0m\u001b[0;34m\u001b[0m\u001b[0m\n\u001b[1;32m      2\u001b[0m \u001b[0mfig\u001b[0m\u001b[0;34m,\u001b[0m\u001b[0maxs\u001b[0m \u001b[0;34m=\u001b[0m \u001b[0mplt\u001b[0m\u001b[0;34m.\u001b[0m\u001b[0msubplots\u001b[0m\u001b[0;34m(\u001b[0m\u001b[0;36m3\u001b[0m\u001b[0;34m,\u001b[0m\u001b[0;36m2\u001b[0m\u001b[0;34m,\u001b[0m \u001b[0mfigsize\u001b[0m \u001b[0;34m=\u001b[0m \u001b[0;34m(\u001b[0m\u001b[0;36m8\u001b[0m\u001b[0;34m,\u001b[0m\u001b[0;36m10\u001b[0m\u001b[0;34m)\u001b[0m\u001b[0;34m)\u001b[0m\u001b[0;34m\u001b[0m\u001b[0;34m\u001b[0m\u001b[0m\n\u001b[0;32m----> 3\u001b[0;31m \u001b[0msns\u001b[0m\u001b[0;34m.\u001b[0m\u001b[0mhistplot\u001b[0m\u001b[0;34m(\u001b[0m\u001b[0mdata\u001b[0m\u001b[0;34m=\u001b[0m\u001b[0mdf\u001b[0m\u001b[0;34m,\u001b[0m \u001b[0mx\u001b[0m\u001b[0;34m=\u001b[0m\u001b[0;34m\"CPU_CR\"\u001b[0m\u001b[0;34m,\u001b[0m \u001b[0mkde\u001b[0m\u001b[0;34m=\u001b[0m\u001b[0;32mTrue\u001b[0m\u001b[0;34m,\u001b[0m \u001b[0mcolor\u001b[0m\u001b[0;34m=\u001b[0m\u001b[0;34m\"skyblue\"\u001b[0m\u001b[0;34m,\u001b[0m \u001b[0max\u001b[0m\u001b[0;34m=\u001b[0m\u001b[0maxs\u001b[0m\u001b[0;34m[\u001b[0m\u001b[0;36m0\u001b[0m\u001b[0;34m,\u001b[0m \u001b[0;36m1400\u001b[0m\u001b[0;34m]\u001b[0m\u001b[0;34m)\u001b[0m\u001b[0;34m\u001b[0m\u001b[0;34m\u001b[0m\u001b[0m\n\u001b[0m\u001b[1;32m      4\u001b[0m \u001b[0msns\u001b[0m\u001b[0;34m.\u001b[0m\u001b[0mhistplot\u001b[0m\u001b[0;34m(\u001b[0m\u001b[0mdata\u001b[0m\u001b[0;34m=\u001b[0m\u001b[0mdf\u001b[0m\u001b[0;34m,\u001b[0m \u001b[0mx\u001b[0m\u001b[0;34m=\u001b[0m\u001b[0;34m\"CPU_NC\"\u001b[0m\u001b[0;34m,\u001b[0m \u001b[0mkde\u001b[0m\u001b[0;34m=\u001b[0m\u001b[0;32mTrue\u001b[0m\u001b[0;34m,\u001b[0m \u001b[0mcolor\u001b[0m\u001b[0;34m=\u001b[0m\u001b[0;34m\"olive\"\u001b[0m\u001b[0;34m,\u001b[0m \u001b[0max\u001b[0m\u001b[0;34m=\u001b[0m\u001b[0maxs\u001b[0m\u001b[0;34m[\u001b[0m\u001b[0;36m0\u001b[0m\u001b[0;34m,\u001b[0m \u001b[0;36m15\u001b[0m\u001b[0;34m]\u001b[0m\u001b[0;34m)\u001b[0m\u001b[0;34m\u001b[0m\u001b[0;34m\u001b[0m\u001b[0m\n\u001b[1;32m      5\u001b[0m \u001b[0msns\u001b[0m\u001b[0;34m.\u001b[0m\u001b[0mhistplot\u001b[0m\u001b[0;34m(\u001b[0m\u001b[0mdata\u001b[0m\u001b[0;34m=\u001b[0m\u001b[0mdf\u001b[0m\u001b[0;34m,\u001b[0m \u001b[0mx\u001b[0m\u001b[0;34m=\u001b[0m\u001b[0;34m\"RAM\"\u001b[0m\u001b[0;34m,\u001b[0m \u001b[0mkde\u001b[0m\u001b[0;34m=\u001b[0m\u001b[0;32mTrue\u001b[0m\u001b[0;34m,\u001b[0m \u001b[0mcolor\u001b[0m\u001b[0;34m=\u001b[0m\u001b[0;34m\"gold\"\u001b[0m\u001b[0;34m,\u001b[0m \u001b[0max\u001b[0m\u001b[0;34m=\u001b[0m\u001b[0maxs\u001b[0m\u001b[0;34m[\u001b[0m\u001b[0;36m0\u001b[0m\u001b[0;34m,\u001b[0m \u001b[0;36m270\u001b[0m\u001b[0;34m]\u001b[0m\u001b[0;34m)\u001b[0m\u001b[0;34m\u001b[0m\u001b[0;34m\u001b[0m\u001b[0m\n",
      "\u001b[0;31mIndexError\u001b[0m: index 1400 is out of bounds for axis 1 with size 2"
     ]
    },
    {
     "data": {
      "image/png": "[encoded data removed]",
      "text/plain": [
       "<Figure size 576x720 with 6 Axes>"
      ]
     },
     "metadata": {},
     "output_type": "display_data"
    }
   ],
   "source": [
    "sns.set(style=\"whitegrid\")  \n",
    "fig,axs = plt.subplots(3,2, figsize = (8,10))\n",
    "sns.histplot(data=df, x=\"CPU_CR\", kde=True, color=\"skyblue\", ax=axs[0, 1400])\n",
    "sns.histplot(data=df, x=\"CPU_NC\", kde=True, color=\"olive\", ax=axs[0, 15])\n",
    "sns.histplot(data=df, x=\"RAM\", kde=True, color=\"gold\", ax=axs[0, 270])\n",
    "fig.tight_layout()"
   ]
  }
 ],
 "metadata": {
  "kernelspec": {
   "display_name": "Python 3 (ipykernel)",
   "language": "python",
   "name": "python3"
  },
  "language_info": {
   "codemirror_mode": {
    "name": "ipython",
    "version": 3
   },
   "file_extension": ".py",
   "mimetype": "text/x-python",
   "name": "python",
   "nbconvert_exporter": "python",
   "pygments_lexer": "ipython3",
   "version": "3.9.7"
  }
 },
 "nbformat": 4,
 "nbformat_minor": 5
}
